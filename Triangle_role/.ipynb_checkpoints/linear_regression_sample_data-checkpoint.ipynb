{
 "cells": [
  {
   "cell_type": "code",
   "execution_count": null,
   "id": "2fb4ef34",
   "metadata": {},
   "outputs": [],
   "source": [
    "# import dependencies\n",
    "import numpy as np\n",
    "import pandas as pd\n",
    "from pathlib import Path\n",
    "from collections import Counter\n",
    "import matplotlib.pyplot as plt\n",
    "from sklearn.linear_model import LinearRegression\n",
    "from sklearn.preprocessing import StandardScaler"
   ]
  },
  {
   "cell_type": "code",
   "execution_count": null,
   "id": "4b85daca",
   "metadata": {},
   "outputs": [],
   "source": [
    "#  Import and read the csv.\n",
    "data_df = pd.read_csv(\"Triangle_role/Resources/sample_data.csv\")\n",
    "data_df.head()"
   ]
  },
  {
   "cell_type": "markdown",
   "id": "b7aa96ae",
   "metadata": {},
   "source": [
    "Data Cleaning"
   ]
  },
  {
   "cell_type": "code",
   "execution_count": null,
   "id": "6901f84d",
   "metadata": {},
   "outputs": [],
   "source": [
    "# Drop the null columns where all values are null\n",
    "data_df = data_df.dropna(axis='columns', how='all')\n",
    "data_df.head()"
   ]
  },
  {
   "cell_type": "code",
   "execution_count": null,
   "id": "8565c60c",
   "metadata": {},
   "outputs": [],
   "source": [
    "# Drop the null rows\n",
    "data_df = data_df.dropna()\n",
    "data_df.head()"
   ]
  },
  {
   "cell_type": "code",
   "execution_count": null,
   "id": "09df2303",
   "metadata": {},
   "outputs": [],
   "source": [
    "#Using drop() to delete rows based on column value\n",
    "data_df.drop(data_df[data_df['cases'] < 1].index, inplace = True)"
   ]
  },
  {
   "cell_type": "code",
   "execution_count": null,
   "id": "0e84b095",
   "metadata": {},
   "outputs": [],
   "source": [
    "#Using drop() to delete rows based on column value\n",
    "data_df.drop(data_df[data_df['Year'] < 2019].index, inplace = True)"
   ]
  },
  {
   "cell_type": "code",
   "execution_count": null,
   "id": "167e0440",
   "metadata": {},
   "outputs": [],
   "source": [
    "data_df"
   ]
  },
  {
   "cell_type": "code",
   "execution_count": null,
   "id": "9cb95b5b",
   "metadata": {},
   "outputs": [],
   "source": [
    "data_df.dtypes"
   ]
  },
  {
   "cell_type": "code",
   "execution_count": null,
   "id": "b46e404e",
   "metadata": {},
   "outputs": [],
   "source": [
    "cases_cost_df = data_df[[\"cases\",\"Cost\"]]\n",
    "cases_cost_df"
   ]
  },
  {
   "cell_type": "code",
   "execution_count": null,
   "id": "0580db22",
   "metadata": {},
   "outputs": [],
   "source": [
    "cases_cost_df[\"cases\"] = cases_cost_df[\"cases\"] / 1000"
   ]
  },
  {
   "cell_type": "code",
   "execution_count": null,
   "id": "e92973a0",
   "metadata": {},
   "outputs": [],
   "source": [
    "cases_cost_df[\"Cost\"] = cases_cost_df[\"Cost\"] / 1000"
   ]
  },
  {
   "cell_type": "code",
   "execution_count": null,
   "id": "75502505",
   "metadata": {},
   "outputs": [],
   "source": [
    "# comparing cases to cost\n",
    "plt.scatter(cases_cost_df.cases, cases_cost_df.Cost)\n",
    "plt.xlabel('Number of Cases (in thousands)')\n",
    "plt.ylabel('Cost of House (in thousands)')\n",
    "plt.show()"
   ]
  },
  {
   "cell_type": "code",
   "execution_count": null,
   "id": "c5c3c0f7",
   "metadata": {},
   "outputs": [],
   "source": [
    "X = cases_cost_df.cases.values.reshape(-1, 1)"
   ]
  },
  {
   "cell_type": "code",
   "execution_count": null,
   "id": "5a6f158e",
   "metadata": {},
   "outputs": [],
   "source": [
    "# we assign the target variable, or the Salary column, to y\n",
    "y = cases_cost_df.Cost"
   ]
  },
  {
   "cell_type": "code",
   "execution_count": null,
   "id": "d6441a1b",
   "metadata": {},
   "outputs": [],
   "source": [
    "# create an instance of the linear regression model\n",
    "model = LinearRegression()"
   ]
  },
  {
   "cell_type": "code",
   "execution_count": null,
   "id": "3d343bfd",
   "metadata": {},
   "outputs": [],
   "source": [
    "model.fit(X, y)"
   ]
  },
  {
   "cell_type": "code",
   "execution_count": null,
   "id": "567d4e84",
   "metadata": {},
   "outputs": [],
   "source": [
    "# the predict() method is used to generate predictions: \n",
    "# given any number of a person's years of experience, the model will predict the salary:\n",
    "y_pred = model.predict(X)"
   ]
  },
  {
   "cell_type": "code",
   "execution_count": null,
   "id": "5be03e60",
   "metadata": {},
   "outputs": [],
   "source": [
    "plt.scatter(X, y)\n",
    "plt.plot(X, y_pred, color='red')\n",
    "plt.show()\n",
    "plt.savefig(\"linear_regression.png\")"
   ]
  },
  {
   "cell_type": "code",
   "execution_count": null,
   "id": "bc43ac80",
   "metadata": {},
   "outputs": [],
   "source": [
    "print(model.coef_)\n",
    "print(model.intercept_)"
   ]
  },
  {
   "cell_type": "code",
   "execution_count": null,
   "id": "f854dd0d",
   "metadata": {},
   "outputs": [],
   "source": [
    "plt.savefig(\"linear_regression.png\")"
   ]
  },
  {
   "cell_type": "code",
   "execution_count": null,
   "id": "87fc9f3a",
   "metadata": {},
   "outputs": [],
   "source": [
    "cases_cost_copy_df = data_df[[\"cases\",\"Cost\"]]\n",
    "cases_cost_copy_df"
   ]
  },
  {
   "cell_type": "code",
   "execution_count": null,
   "id": "4a515cb2",
   "metadata": {},
   "outputs": [],
   "source": [
    "# creating the scaler instance\n",
    "data_scaler = StandardScaler()"
   ]
  },
  {
   "cell_type": "code",
   "execution_count": null,
   "id": "3b532201",
   "metadata": {},
   "outputs": [],
   "source": [
    "# Fitting the scaler\n",
    "cases_cost_scaled = data_scaler.fit_transform(cases_cost_copy_df)\n"
   ]
  },
  {
   "cell_type": "code",
   "execution_count": null,
   "id": "bd0fabfe",
   "metadata": {},
   "outputs": [],
   "source": [
    "cases_cost_scaled = pd.DataFrame(cases_cost_scaled, columns=cases_cost_copy_df.columns)\n",
    "cases_cost_scaled"
   ]
  },
  {
   "cell_type": "code",
   "execution_count": null,
   "id": "ab0b2801",
   "metadata": {},
   "outputs": [],
   "source": [
    "# comparing cases to cost SCALED\n",
    "plt.scatter(cases_cost_scaled.cases, cases_cost_scaled.Cost)\n",
    "plt.xlabel('Number of Cases (scaled)')\n",
    "plt.ylabel('Cost of House (scaled)')\n",
    "plt.show()"
   ]
  },
  {
   "cell_type": "code",
   "execution_count": null,
   "id": "8817eda6",
   "metadata": {},
   "outputs": [],
   "source": [
    "X2 = cases_cost_scaled.cases.values.reshape(-1, 1)"
   ]
  },
  {
   "cell_type": "code",
   "execution_count": null,
   "id": "27d99d2c",
   "metadata": {},
   "outputs": [],
   "source": [
    "# we assign the target variable, or the cost column, to y\n",
    "y2 = cases_cost_scaled.Cost"
   ]
  },
  {
   "cell_type": "code",
   "execution_count": null,
   "id": "b8f1ff61",
   "metadata": {},
   "outputs": [],
   "source": [
    "model.fit(X2, y2)"
   ]
  },
  {
   "cell_type": "code",
   "execution_count": null,
   "id": "3764d957",
   "metadata": {},
   "outputs": [],
   "source": [
    "# the predict() method is used to generate predictions: \n",
    "# given any number of a person's years of experience, the model will predict the salary:\n",
    "y2_pred = model.predict(X2)"
   ]
  },
  {
   "cell_type": "code",
   "execution_count": null,
   "id": "1a8fefc4",
   "metadata": {},
   "outputs": [],
   "source": [
    "plt.scatter(X2, y2)\n",
    "plt.plot(X2, y2_pred, color='red')\n",
    "plt.show()"
   ]
  },
  {
   "cell_type": "code",
   "execution_count": null,
   "id": "6cf9a9d3",
   "metadata": {},
   "outputs": [],
   "source": [
    "print(model.coef_)\n",
    "print(model.intercept_)"
   ]
  },
  {
   "cell_type": "code",
   "execution_count": null,
   "id": "4c1b6c9e",
   "metadata": {},
   "outputs": [],
   "source": [
    "plt.savefig(\"scaled_linear_regression.png\")"
   ]
  },
  {
   "cell_type": "code",
   "execution_count": null,
   "id": "cf0272b1",
   "metadata": {},
   "outputs": [],
   "source": []
  }
 ],
 "metadata": {
  "kernelspec": {
   "display_name": "PythonData",
   "language": "python",
   "name": "pythondata"
  },
  "language_info": {
   "codemirror_mode": {
    "name": "ipython",
    "version": 3
   },
   "file_extension": ".py",
   "mimetype": "text/x-python",
   "name": "python",
   "nbconvert_exporter": "python",
   "pygments_lexer": "ipython3",
   "version": "3.7.13"
  }
 },
 "nbformat": 4,
 "nbformat_minor": 5
}
