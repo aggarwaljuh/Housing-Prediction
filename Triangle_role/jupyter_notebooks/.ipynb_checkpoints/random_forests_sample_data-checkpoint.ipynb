{
 "cells": [
  {
   "cell_type": "code",
   "execution_count": 1,
   "id": "325887b3",
   "metadata": {},
   "outputs": [],
   "source": [
    "# Initial imports.\n",
    "import pandas as pd\n",
    "from pathlib import Path\n",
    "from sklearn.ensemble import RandomForestClassifier\n",
    "from sklearn.preprocessing import StandardScaler\n",
    "from sklearn.model_selection import train_test_split\n",
    "from sklearn.metrics import confusion_matrix, accuracy_score, classification_report"
   ]
  },
  {
   "cell_type": "code",
   "execution_count": 3,
   "id": "b1ee65b9",
   "metadata": {},
   "outputs": [
    {
     "data": {
      "text/html": [
       "<div>\n",
       "<style scoped>\n",
       "    .dataframe tbody tr th:only-of-type {\n",
       "        vertical-align: middle;\n",
       "    }\n",
       "\n",
       "    .dataframe tbody tr th {\n",
       "        vertical-align: top;\n",
       "    }\n",
       "\n",
       "    .dataframe thead th {\n",
       "        text-align: right;\n",
       "    }\n",
       "</style>\n",
       "<table border=\"1\" class=\"dataframe\">\n",
       "  <thead>\n",
       "    <tr style=\"text-align: right;\">\n",
       "      <th></th>\n",
       "      <th>Year</th>\n",
       "      <th>FIPS</th>\n",
       "      <th>C_S</th>\n",
       "      <th>month</th>\n",
       "      <th>cases</th>\n",
       "      <th>Pcincome</th>\n",
       "      <th>POPESTIMATE</th>\n",
       "      <th>MFratio</th>\n",
       "      <th>POPEST_MALE</th>\n",
       "      <th>POPEST_FEM</th>\n",
       "      <th>...</th>\n",
       "      <th>WA</th>\n",
       "      <th>BA</th>\n",
       "      <th>IA</th>\n",
       "      <th>AA</th>\n",
       "      <th>NA</th>\n",
       "      <th>TOM</th>\n",
       "      <th>NH</th>\n",
       "      <th>H</th>\n",
       "      <th>Cost</th>\n",
       "      <th>RUCC</th>\n",
       "    </tr>\n",
       "  </thead>\n",
       "  <tbody>\n",
       "    <tr>\n",
       "      <th>0</th>\n",
       "      <td>2017</td>\n",
       "      <td>1001</td>\n",
       "      <td>Autauga County,Alabama</td>\n",
       "      <td>1</td>\n",
       "      <td>0</td>\n",
       "      <td>27824</td>\n",
       "      <td>55448</td>\n",
       "      <td>0.951913</td>\n",
       "      <td>27041</td>\n",
       "      <td>28407</td>\n",
       "      <td>...</td>\n",
       "      <td>42606</td>\n",
       "      <td>10816</td>\n",
       "      <td>254</td>\n",
       "      <td>693</td>\n",
       "      <td>59</td>\n",
       "      <td>1020</td>\n",
       "      <td>53908</td>\n",
       "      <td>1540</td>\n",
       "      <td>186712</td>\n",
       "      <td>2</td>\n",
       "    </tr>\n",
       "    <tr>\n",
       "      <th>1</th>\n",
       "      <td>2017</td>\n",
       "      <td>1001</td>\n",
       "      <td>Autauga County,Alabama</td>\n",
       "      <td>2</td>\n",
       "      <td>0</td>\n",
       "      <td>27824</td>\n",
       "      <td>55448</td>\n",
       "      <td>0.951913</td>\n",
       "      <td>27041</td>\n",
       "      <td>28407</td>\n",
       "      <td>...</td>\n",
       "      <td>42606</td>\n",
       "      <td>10816</td>\n",
       "      <td>254</td>\n",
       "      <td>693</td>\n",
       "      <td>59</td>\n",
       "      <td>1020</td>\n",
       "      <td>53908</td>\n",
       "      <td>1540</td>\n",
       "      <td>186577</td>\n",
       "      <td>2</td>\n",
       "    </tr>\n",
       "    <tr>\n",
       "      <th>2</th>\n",
       "      <td>2017</td>\n",
       "      <td>1001</td>\n",
       "      <td>Autauga County,Alabama</td>\n",
       "      <td>3</td>\n",
       "      <td>0</td>\n",
       "      <td>27824</td>\n",
       "      <td>55448</td>\n",
       "      <td>0.951913</td>\n",
       "      <td>27041</td>\n",
       "      <td>28407</td>\n",
       "      <td>...</td>\n",
       "      <td>42606</td>\n",
       "      <td>10816</td>\n",
       "      <td>254</td>\n",
       "      <td>693</td>\n",
       "      <td>59</td>\n",
       "      <td>1020</td>\n",
       "      <td>53908</td>\n",
       "      <td>1540</td>\n",
       "      <td>186397</td>\n",
       "      <td>2</td>\n",
       "    </tr>\n",
       "    <tr>\n",
       "      <th>3</th>\n",
       "      <td>2017</td>\n",
       "      <td>1001</td>\n",
       "      <td>Autauga County,Alabama</td>\n",
       "      <td>4</td>\n",
       "      <td>0</td>\n",
       "      <td>27824</td>\n",
       "      <td>55448</td>\n",
       "      <td>0.951913</td>\n",
       "      <td>27041</td>\n",
       "      <td>28407</td>\n",
       "      <td>...</td>\n",
       "      <td>42606</td>\n",
       "      <td>10816</td>\n",
       "      <td>254</td>\n",
       "      <td>693</td>\n",
       "      <td>59</td>\n",
       "      <td>1020</td>\n",
       "      <td>53908</td>\n",
       "      <td>1540</td>\n",
       "      <td>186839</td>\n",
       "      <td>2</td>\n",
       "    </tr>\n",
       "    <tr>\n",
       "      <th>4</th>\n",
       "      <td>2017</td>\n",
       "      <td>1001</td>\n",
       "      <td>Autauga County,Alabama</td>\n",
       "      <td>5</td>\n",
       "      <td>0</td>\n",
       "      <td>27824</td>\n",
       "      <td>55448</td>\n",
       "      <td>0.951913</td>\n",
       "      <td>27041</td>\n",
       "      <td>28407</td>\n",
       "      <td>...</td>\n",
       "      <td>42606</td>\n",
       "      <td>10816</td>\n",
       "      <td>254</td>\n",
       "      <td>693</td>\n",
       "      <td>59</td>\n",
       "      <td>1020</td>\n",
       "      <td>53908</td>\n",
       "      <td>1540</td>\n",
       "      <td>187155</td>\n",
       "      <td>2</td>\n",
       "    </tr>\n",
       "  </tbody>\n",
       "</table>\n",
       "<p>5 rows × 26 columns</p>\n",
       "</div>"
      ],
      "text/plain": [
       "   Year  FIPS                     C_S  month  cases  Pcincome  POPESTIMATE  \\\n",
       "0  2017  1001  Autauga County,Alabama      1      0     27824        55448   \n",
       "1  2017  1001  Autauga County,Alabama      2      0     27824        55448   \n",
       "2  2017  1001  Autauga County,Alabama      3      0     27824        55448   \n",
       "3  2017  1001  Autauga County,Alabama      4      0     27824        55448   \n",
       "4  2017  1001  Autauga County,Alabama      5      0     27824        55448   \n",
       "\n",
       "    MFratio  POPEST_MALE  POPEST_FEM  ...     WA     BA   IA   AA  NA   TOM  \\\n",
       "0  0.951913        27041       28407  ...  42606  10816  254  693  59  1020   \n",
       "1  0.951913        27041       28407  ...  42606  10816  254  693  59  1020   \n",
       "2  0.951913        27041       28407  ...  42606  10816  254  693  59  1020   \n",
       "3  0.951913        27041       28407  ...  42606  10816  254  693  59  1020   \n",
       "4  0.951913        27041       28407  ...  42606  10816  254  693  59  1020   \n",
       "\n",
       "      NH     H    Cost  RUCC  \n",
       "0  53908  1540  186712     2  \n",
       "1  53908  1540  186577     2  \n",
       "2  53908  1540  186397     2  \n",
       "3  53908  1540  186839     2  \n",
       "4  53908  1540  187155     2  \n",
       "\n",
       "[5 rows x 26 columns]"
      ]
     },
     "execution_count": 3,
     "metadata": {},
     "output_type": "execute_result"
    }
   ],
   "source": [
    "#  Import and read the csv.\n",
    "data_df = pd.read_csv(\"Resources/sample_data.csv\")\n",
    "data_df.head()"
   ]
  },
  {
   "cell_type": "markdown",
   "id": "d6562e81",
   "metadata": {},
   "source": [
    "### Preprocessing the data"
   ]
  },
  {
   "cell_type": "code",
   "execution_count": 4,
   "id": "0ed0c297",
   "metadata": {},
   "outputs": [],
   "source": [
    "# Drop the null columns where all values are null\n",
    "data_df = data_df.dropna(axis='columns', how='all')"
   ]
  },
  {
   "cell_type": "code",
   "execution_count": 5,
   "id": "1ec3087a",
   "metadata": {},
   "outputs": [],
   "source": [
    "# Drop the null rows\n",
    "data_df = data_df.dropna()"
   ]
  },
  {
   "cell_type": "code",
   "execution_count": 6,
   "id": "e0eeca9d",
   "metadata": {},
   "outputs": [],
   "source": [
    "# Using drop() to delete rows based on column value\n",
    "data_df.drop(data_df[data_df['Year'] < 2019].index, inplace = True)"
   ]
  },
  {
   "cell_type": "code",
   "execution_count": null,
   "id": "f8747a0b",
   "metadata": {},
   "outputs": [],
   "source": [
    "# Dropping \"C_S\" due to FIPS representing the same information\n",
    "# also removes a categorical variables\n",
    "data_df = data_df.drop(columns=[\"C_S\"])"
   ]
  },
  {
   "cell_type": "code",
   "execution_count": null,
   "id": "ec77a8b8",
   "metadata": {},
   "outputs": [],
   "source": [
    "# Define the features set.\n",
    "X = data_df.copy()\n",
    "X = X.drop(\"Cost\", axis=1)\n",
    "\n",
    "# Define the target set.\n",
    "y = data_df[\"Cost\"].ravel()"
   ]
  },
  {
   "cell_type": "code",
   "execution_count": null,
   "id": "21db5f1d",
   "metadata": {},
   "outputs": [],
   "source": [
    "# Splitting into Train and Test sets.\n",
    "X_train, X_test, y_train, y_test = train_test_split(X, y, random_state=22)"
   ]
  },
  {
   "cell_type": "code",
   "execution_count": null,
   "id": "1cc10ee6",
   "metadata": {},
   "outputs": [],
   "source": [
    "# Creating a StandardScaler instance.\n",
    "scaler = StandardScaler()\n",
    "\n",
    "# Fitting the Standard Scaler with the training data.\n",
    "X_scaler = scaler.fit(X_train)\n",
    "\n",
    "# Scaling the data.\n",
    "X_train_scaled = X_scaler.transform(X_train)\n",
    "X_test_scaled = X_scaler.transform(X_test)"
   ]
  },
  {
   "cell_type": "code",
   "execution_count": null,
   "id": "13458263",
   "metadata": {},
   "outputs": [],
   "source": [
    "# Create a random forest classifier.\n",
    "rf_model = RandomForestClassifier(n_estimators=128, random_state=22) "
   ]
  },
  {
   "cell_type": "code",
   "execution_count": null,
   "id": "d08194ba",
   "metadata": {},
   "outputs": [],
   "source": [
    "# Fitting the model\n",
    "rf_model = rf_model.fit(X_train_scaled, y_train)"
   ]
  },
  {
   "cell_type": "code",
   "execution_count": null,
   "id": "feed8fd3",
   "metadata": {},
   "outputs": [],
   "source": [
    "# Making predictions using the testing data.\n",
    "predictions = rf_model.predict(X_test_scaled)\n",
    "predictions"
   ]
  },
  {
   "cell_type": "code",
   "execution_count": null,
   "id": "22974c46",
   "metadata": {},
   "outputs": [],
   "source": [
    "y_test"
   ]
  },
  {
   "cell_type": "code",
   "execution_count": null,
   "id": "477a0d8f",
   "metadata": {},
   "outputs": [],
   "source": [
    "# Calculating the confusion matrix.\n",
    "cm = confusion_matrix(y_test, predictions)\n",
    "\n",
    "# Create a DataFrame from the confusion matrix.\n",
    "cm_df = pd.DataFrame(\n",
    "    #cm, index=[\"Actual 0\", \"Actual 1\"], columns=[\"Predicted 0\", \"Predicted 1\"])\n",
    "    cm)\n",
    "\n",
    "# Calculating the accuracy score\n",
    "acc_score = accuracy_score(y_test, predictions)\n",
    "\n",
    "cm_df"
   ]
  },
  {
   "cell_type": "code",
   "execution_count": null,
   "id": "59e9aa2e",
   "metadata": {},
   "outputs": [],
   "source": [
    "# Displaying results\n",
    "print(\"Confusion Matrix\")\n",
    "display(cm_df)\n",
    "print(f\"Accuracy Score : {acc_score}\")\n",
    "print(\"Classification Report\")\n",
    "print(classification_report(y_test, predictions))"
   ]
  },
  {
   "cell_type": "code",
   "execution_count": null,
   "id": "d76e7b83",
   "metadata": {},
   "outputs": [],
   "source": []
  }
 ],
 "metadata": {
  "kernelspec": {
   "display_name": "PythonData",
   "language": "python",
   "name": "pythondata"
  },
  "language_info": {
   "codemirror_mode": {
    "name": "ipython",
    "version": 3
   },
   "file_extension": ".py",
   "mimetype": "text/x-python",
   "name": "python",
   "nbconvert_exporter": "python",
   "pygments_lexer": "ipython3",
   "version": "3.7.13"
  }
 },
 "nbformat": 4,
 "nbformat_minor": 5
}
